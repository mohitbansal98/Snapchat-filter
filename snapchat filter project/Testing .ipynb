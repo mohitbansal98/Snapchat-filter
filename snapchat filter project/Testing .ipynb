{
 "cells": [
  {
   "cell_type": "code",
   "execution_count": 184,
   "metadata": {},
   "outputs": [],
   "source": [
    "import cv2\n",
    "import numpy as np\n",
    "import pandas as pd"
   ]
  },
  {
   "cell_type": "code",
   "execution_count": 202,
   "metadata": {},
   "outputs": [],
   "source": [
    "# eye_cascade = cv2.CascadeClassifier(\"../../../../Anaconda3/Lib/site-packages/cv2/data/haarcascade_eye.xml\")\n",
    "eye_cascade = cv2.CascadeClassifier(\"Train/third-party/frontalEyes35x16.xml\")\n",
    "nose_cascade = cv2.CascadeClassifier(\"Train/third-party/Nose18x15.xml\")"
   ]
  },
  {
   "cell_type": "code",
   "execution_count": 203,
   "metadata": {},
   "outputs": [],
   "source": [
    "glasses_image = cv2.imread(\"Train/glasses.PNG\", cv2.IMREAD_UNCHANGED)\n",
    "mustache_image = cv2.imread(\"Train/mustache.PNG\", cv2.IMREAD_UNCHANGED)\n",
    "image = cv2.imread(\"Test/Before.PNG\")\n",
    "# image = cv2.imread(\"Train/Jamie_Before.JPG\")\n",
    "eyes = eye_cascade.detectMultiScale(image, 1.3,5)\n",
    "nose = nose_cascade.detectMultiScale(image,1.3,5)\n",
    "\n",
    "\n",
    "\n"
   ]
  },
  {
   "cell_type": "code",
   "execution_count": 204,
   "metadata": {},
   "outputs": [],
   "source": [
    "### eye ###\n",
    "x,y,w,h = eyes.flatten()\n",
    "dim = (w, h)\n",
    "resized = cv2.resize(glasses_image, dim, interpolation = cv2.INTER_AREA)\n",
    "\n",
    "xcord = x\n",
    "ycord = y\n",
    "for xi in range(w):\n",
    "    for yi in range(h):\n",
    "        if(resized[yi,xi,3] != 0):\n",
    "            image[ycord+yi,xcord+xi,:] = resized[yi,xi,:3]\n",
    "            \n",
    "### nose ###         \n",
    "xn,yn,wn,hn = nose.flatten()\n",
    "# hn = int(hn/1.3)\n",
    "# xn = xn - int(wn/4)\n",
    "# wn = int(wn*1.5)\n",
    "dimn = (wn, hn)\n",
    "resized_mus = cv2.resize(mustache_image, dimn, interpolation = cv2.INTER_AREA)\n",
    "\n",
    "xcord = xn\n",
    "ycord = yn + int(hn/2)\n",
    "for xi in range(wn):\n",
    "    for yi in range(hn):\n",
    "        if(resized_mus[yi,xi,3] != 0):\n",
    "            image[ycord+yi,xcord+xi,:] = resized_mus[yi,xi,:3]\n",
    "            \n",
    "######################\n",
    "# cv2.rectangle(image, (xn,yn), (xn+wn,yn+hn), (0,255,255), 2);"
   ]
  },
  {
   "cell_type": "code",
   "execution_count": 205,
   "metadata": {},
   "outputs": [],
   "source": [
    "result = np.reshape(image, (-1,3))\n",
    "\n",
    "cv2.imshow('image', image)\n",
    "cv2.waitKey(0)\n",
    "cv2.destroyAllWindows()"
   ]
  },
  {
   "cell_type": "code",
   "execution_count": 206,
   "metadata": {},
   "outputs": [
    {
     "name": "stdout",
     "output_type": "stream",
     "text": [
      "   Channel 1  Channel 2  Channel 3\n",
      "0        180        202        219\n",
      "1        181        203        220\n",
      "2        180        202        219\n",
      "3        181        203        220\n",
      "4        180        202        219\n"
     ]
    }
   ],
   "source": [
    "result.shape\n",
    "df = pd.DataFrame(result, index = None,columns = [\"Channel 1\", \"Channel 2\", \"Channel 3\"])\n",
    "print(df.head())\n",
    "df.to_csv(\"result.csv\", index =False)"
   ]
  },
  {
   "cell_type": "code",
   "execution_count": null,
   "metadata": {},
   "outputs": [],
   "source": [
    "#######################################\n",
    "glass_width = glasses_image.shape[1]\n",
    "glass_height = glasses_image.shape[0]\n",
    "for x in range(glass_width):\n",
    "    for y in range(glass_height):\n",
    "        if(glasses_image[y,x,3] == 0):\n",
    "            glasses_image[y,x,:3] = [255,0,0]\n",
    "        \n",
    "# for x,y,w,h in eyes:\n",
    "#     cv2.rectangle(image, (x,y), (x+w,y+h), (0,255,255), 2)\n",
    "\n",
    "# rightEyeIndex = np.argmax([eye[0] for eye in eyes])\n",
    "# leftEyeIndex = np.argmin([eye[0] for eye in eyes])\n",
    "# rightEye = eyes[rightEyeIndex]\n",
    "# leftEye = eyes[leftEyeIndex]\n",
    "\n",
    "# nose_width = rightEye[0]-(leftEye[0]+leftEye[2])\n",
    "# eyes_width = (leftEye[2]+rightEye[2])\n",
    "# width = eyes_width + (nose_width*2)\n",
    "\n",
    "# original_width = glasses_image.shape[1]\n",
    "# scale_percent = (width * 100.0 / original_width)\n",
    "# width = int(glasses_image.shape[1] * scale_percent / 100)\n",
    "# height = int(glasses_image.shape[0] * scale_percent / 100)\n",
    "\n",
    "# dim = (width, height)\n",
    "# resized = cv2.resize(glasses_image, dim, interpolation = cv2.INTER_AREA)\n",
    "\n",
    "# # assuming eye in not at the edge (out of bounds exception might occur)\n",
    "# xcord = leftEye[0]-int(nose_width/2)\n",
    "# ycord = leftEye[1]\n",
    "# for x in range(width):\n",
    "#     for y in range(height):\n",
    "#         if(resized[y,x,3] != 0):\n",
    "#             image[ycord+y,xcord+x,:] = resized[y,x,:3]\n"
   ]
  }
 ],
 "metadata": {
  "kernelspec": {
   "display_name": "Python 3",
   "language": "python",
   "name": "python3"
  },
  "language_info": {
   "codemirror_mode": {
    "name": "ipython",
    "version": 3
   },
   "file_extension": ".py",
   "mimetype": "text/x-python",
   "name": "python",
   "nbconvert_exporter": "python",
   "pygments_lexer": "ipython3",
   "version": "3.7.4"
  }
 },
 "nbformat": 4,
 "nbformat_minor": 2
}
